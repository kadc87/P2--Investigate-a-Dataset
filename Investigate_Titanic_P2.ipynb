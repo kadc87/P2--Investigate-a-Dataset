{
 "cells": [
  {
   "cell_type": "markdown",
   "metadata": {},
   "source": [
    "### 1.Introduction\n",
    "\n",
    "In this project we were required to select a dataset and perfrom analysis on it to answer and explore various questions that we could come up with. The Titanic dataset was selected which presents the features of a sample of passengers on the Titanic such as their sex, age, embarkment port, fare and many others. After looking over the dataset, I found the following questions interesting :-\n",
    "\n",
    "1) What sex had the better survival rate ?\n",
    "\n",
    "2) Did people who paid more fare have a better survival rate ?\n",
    "\n",
    "3) Did travelling alone or travelling with a family impact one's survival rate ?\n"
   ]
  },
  {
   "cell_type": "markdown",
   "metadata": {},
   "source": [
    "### Organising the Report\n",
    "\n",
    "This project will be using a Jupyter Notebook to describe the analysis performed on the Titanic dataset. Importing the necessary modules for performing the analysis below."
   ]
  },
  {
   "cell_type": "code",
   "execution_count": 2,
   "metadata": {
    "collapsed": false
   },
   "outputs": [
    {
     "name": "stdout",
     "output_type": "stream",
     "text": [
      "Populating the interactive namespace from numpy and matplotlib\n"
     ]
    }
   ],
   "source": [
    "#Importing the required modules\n",
    "\n",
    "import numpy as np\n",
    "import pandas as pd\n",
    "import matplotlib.pyplot as plt\n",
    "import seaborn as sns\n",
    "import ipy_table as tbl\n",
    "from numbers import Number\n",
    "from scipy import stats\n",
    "\n",
    "#Allow plots and visualisations to be displayed in the report\n",
    "%pylab inline"
   ]
  },
  {
   "cell_type": "code",
   "execution_count": 3,
   "metadata": {
    "collapsed": true
   },
   "outputs": [],
   "source": [
    "def as_a_percent(val, precision='0.2'):\n",
    "    \"\"\"Convert number to percentage string\"\"\"\n",
    "    if isinstance(val, Number):\n",
    "        return \"{{:{}%}}\".format(precision).format(val)\n",
    "    else:\n",
    "        raise TypeError(\"Numeric type required\")\n",
    "\n",
    "def calculate_percentage(val, total, format_percent = False):\n",
    "    \"\"\"Calculates the percentage of a value over a total\"\"\"\n",
    "    percentage = np.divide(val, total, dtype=float)\n",
    "    if format_percent:\n",
    "        percentage = as_a_percent(percentage)\n",
    "    return percentage"
   ]
  },
  {
   "cell_type": "markdown",
   "metadata": {},
   "source": [
    "### Reading the CSV as a DataFrame"
   ]
  },
  {
   "cell_type": "code",
   "execution_count": 4,
   "metadata": {
    "collapsed": false
   },
   "outputs": [],
   "source": [
    "#Reading the csv and storing it in a variable\n",
    "titanic_file = 'D:/Data Analysis/Investigate a Dataset/titanic_data.csv'\n",
    "titanic_df = pd.read_csv(titanic_file)"
   ]
  },
  {
   "cell_type": "markdown",
   "metadata": {},
   "source": [
    "### Data Wrangling / Cleaning"
   ]
  },
  {
   "cell_type": "code",
   "execution_count": 5,
   "metadata": {
    "collapsed": false
   },
   "outputs": [
    {
     "name": "stdout",
     "output_type": "stream",
     "text": [
      "<class 'pandas.core.frame.DataFrame'>\n",
      "RangeIndex: 891 entries, 0 to 890\n",
      "Data columns (total 12 columns):\n",
      "PassengerId    891 non-null int64\n",
      "Survived       891 non-null int64\n",
      "Pclass         891 non-null int64\n",
      "Name           891 non-null object\n",
      "Sex            891 non-null object\n",
      "Age            714 non-null float64\n",
      "SibSp          891 non-null int64\n",
      "Parch          891 non-null int64\n",
      "Ticket         891 non-null object\n",
      "Fare           891 non-null float64\n",
      "Cabin          204 non-null object\n",
      "Embarked       889 non-null object\n",
      "dtypes: float64(2), int64(5), object(5)\n",
      "memory usage: 83.6+ KB\n"
     ]
    }
   ],
   "source": [
    "#Printing out the information in the dataset\n",
    "titanic_df.info()"
   ]
  },
  {
   "cell_type": "markdown",
   "metadata": {},
   "source": [
    "We can observe from the above information about the dataset that a few of the columns have missing entries. Especially the 'Cabin' column has a significant number of missing entries. We won't be dealing with the 'Cabin' column however we will need to update the missing entries from the 'Age' and 'Embarked' columns to answer the questions we thought of above. "
   ]
  },
  {
   "cell_type": "markdown",
   "metadata": {},
   "source": [
    "### Replacing the Missing Ages "
   ]
  },
  {
   "cell_type": "code",
   "execution_count": 6,
   "metadata": {
    "collapsed": false
   },
   "outputs": [],
   "source": [
    "#We will replace the missing entries in the age column by the mean of age based on Sex and Parch\n",
    "missing_age_entries = titanic_df[titanic_df['Age'].isnull()]\n",
    "\n",
    "mean_age = titanic_df.groupby(['Sex','Parch'])['Age'].mean()\n",
    "\n",
    "#Function to replace the missing entries with the mean of age calculated above\n",
    "\n",
    "def replace_missing_age_entries(mage) :\n",
    "    if pd.isnull(mage['Age']):\n",
    "        return mean_age[mage['Sex'], mage['Parch']]\n",
    "    else :\n",
    "        return mage['Age']\n",
    "    \n",
    "titanic_df['Age'] =titanic_df.apply(replace_missing_age_entries, axis=1)"
   ]
  },
  {
   "cell_type": "markdown",
   "metadata": {},
   "source": [
    "### Investigating the Missing Embarked Ports\n",
    "To update this column, we must first find out if the missing emabarkments were travelling with other passengers."
   ]
  },
  {
   "cell_type": "code",
   "execution_count": 7,
   "metadata": {
    "collapsed": false
   },
   "outputs": [
    {
     "data": {
      "text/html": [
       "<div>\n",
       "<table border=\"1\" class=\"dataframe\">\n",
       "  <thead>\n",
       "    <tr style=\"text-align: right;\">\n",
       "      <th></th>\n",
       "      <th>PassengerId</th>\n",
       "      <th>Survived</th>\n",
       "      <th>Pclass</th>\n",
       "      <th>Name</th>\n",
       "      <th>Sex</th>\n",
       "      <th>Age</th>\n",
       "      <th>SibSp</th>\n",
       "      <th>Parch</th>\n",
       "      <th>Ticket</th>\n",
       "      <th>Fare</th>\n",
       "      <th>Cabin</th>\n",
       "      <th>Embarked</th>\n",
       "    </tr>\n",
       "  </thead>\n",
       "  <tbody>\n",
       "    <tr>\n",
       "      <th>61</th>\n",
       "      <td>62</td>\n",
       "      <td>1</td>\n",
       "      <td>1</td>\n",
       "      <td>Icard, Miss. Amelie</td>\n",
       "      <td>female</td>\n",
       "      <td>38.0</td>\n",
       "      <td>0</td>\n",
       "      <td>0</td>\n",
       "      <td>113572</td>\n",
       "      <td>80.0</td>\n",
       "      <td>B28</td>\n",
       "      <td>NaN</td>\n",
       "    </tr>\n",
       "    <tr>\n",
       "      <th>829</th>\n",
       "      <td>830</td>\n",
       "      <td>1</td>\n",
       "      <td>1</td>\n",
       "      <td>Stone, Mrs. George Nelson (Martha Evelyn)</td>\n",
       "      <td>female</td>\n",
       "      <td>62.0</td>\n",
       "      <td>0</td>\n",
       "      <td>0</td>\n",
       "      <td>113572</td>\n",
       "      <td>80.0</td>\n",
       "      <td>B28</td>\n",
       "      <td>NaN</td>\n",
       "    </tr>\n",
       "  </tbody>\n",
       "</table>\n",
       "</div>"
      ],
      "text/plain": [
       "     PassengerId  Survived  Pclass                                       Name  \\\n",
       "61            62         1       1                        Icard, Miss. Amelie   \n",
       "829          830         1       1  Stone, Mrs. George Nelson (Martha Evelyn)   \n",
       "\n",
       "        Sex   Age  SibSp  Parch  Ticket  Fare Cabin Embarked  \n",
       "61   female  38.0      0      0  113572  80.0   B28      NaN  \n",
       "829  female  62.0      0      0  113572  80.0   B28      NaN  "
      ]
     },
     "execution_count": 7,
     "metadata": {},
     "output_type": "execute_result"
    }
   ],
   "source": [
    "missing_embarked_ports = titanic_df[titanic_df['Embarked'].isnull()]\n",
    "missing_embarked_ports"
   ]
  },
  {
   "cell_type": "markdown",
   "metadata": {},
   "source": [
    "We notice that both the passengers had the same ticket and cabin number, so we may assume that both were travelling in the same cabin with the same ticket. Since most of the passengers were from Southampton, we will consider the missing entries value to be Southampton."
   ]
  },
  {
   "cell_type": "code",
   "execution_count": 8,
   "metadata": {
    "collapsed": true
   },
   "outputs": [],
   "source": [
    "titanic_df['Embarked'].fillna('S',inplace=True)"
   ]
  },
  {
   "cell_type": "markdown",
   "metadata": {},
   "source": [
    "### Removing Unwanted Columns\n",
    "We will be deleting the Name,Cabin and Ticket columns since we won't be needing them for our analysis. This will also speed up the dataframe processing. "
   ]
  },
  {
   "cell_type": "code",
   "execution_count": 9,
   "metadata": {
    "collapsed": false
   },
   "outputs": [
    {
     "name": "stdout",
     "output_type": "stream",
     "text": [
      "<class 'pandas.core.frame.DataFrame'>\n",
      "RangeIndex: 891 entries, 0 to 890\n",
      "Data columns (total 9 columns):\n",
      "PassengerId    891 non-null int64\n",
      "Survived       891 non-null int64\n",
      "Pclass         891 non-null int64\n",
      "Sex            891 non-null object\n",
      "Age            891 non-null float64\n",
      "SibSp          891 non-null int64\n",
      "Parch          891 non-null int64\n",
      "Fare           891 non-null float64\n",
      "Embarked       891 non-null object\n",
      "dtypes: float64(2), int64(5), object(2)\n",
      "memory usage: 62.7+ KB\n"
     ]
    }
   ],
   "source": [
    "#Deleting Cabin,Name and Ticket columns\n",
    "titanic_df = titanic_df.drop(['Cabin','Name','Ticket'], axis=1)\n",
    "titanic_df.info()"
   ]
  },
  {
   "cell_type": "markdown",
   "metadata": {},
   "source": [
    "### Mapping the Data\n",
    "\n",
    "To make the data more concise and easier to interpret, we will modify the following fields in our updated dataset :\n",
    "\n",
    " 1) Survived - changed to boolean (1 = True, 0 = False)\n",
    "\n",
    " 2) Pclass - changed to Economic status (1st - First Class, 2nd - Second Class, 3rd - Third Class)\n",
    "\n",
    " 3) Embarked - changed to name of embarkation port (C = Cherbourg; Q = Queenstown; S = Southampton)\n",
    " \n",
    "We will combine the 'SibSp' and 'Parch' columns to help us better analyse the third question. "
   ]
  },
  {
   "cell_type": "code",
   "execution_count": 10,
   "metadata": {
    "collapsed": false
   },
   "outputs": [
    {
     "data": {
      "text/html": [
       "<div>\n",
       "<table border=\"1\" class=\"dataframe\">\n",
       "  <thead>\n",
       "    <tr style=\"text-align: right;\">\n",
       "      <th></th>\n",
       "      <th>PassengerId</th>\n",
       "      <th>Survived</th>\n",
       "      <th>Pclass</th>\n",
       "      <th>Sex</th>\n",
       "      <th>Age</th>\n",
       "      <th>SibSp</th>\n",
       "      <th>Parch</th>\n",
       "      <th>Fare</th>\n",
       "      <th>Embarked</th>\n",
       "      <th>FamilyMembers</th>\n",
       "    </tr>\n",
       "  </thead>\n",
       "  <tbody>\n",
       "    <tr>\n",
       "      <th>0</th>\n",
       "      <td>1</td>\n",
       "      <td>False</td>\n",
       "      <td>Third Class</td>\n",
       "      <td>male</td>\n",
       "      <td>22.0</td>\n",
       "      <td>1</td>\n",
       "      <td>0</td>\n",
       "      <td>7.2500</td>\n",
       "      <td>Southampton</td>\n",
       "      <td>1</td>\n",
       "    </tr>\n",
       "    <tr>\n",
       "      <th>1</th>\n",
       "      <td>2</td>\n",
       "      <td>True</td>\n",
       "      <td>First Class</td>\n",
       "      <td>female</td>\n",
       "      <td>38.0</td>\n",
       "      <td>1</td>\n",
       "      <td>0</td>\n",
       "      <td>71.2833</td>\n",
       "      <td>Cherbourg</td>\n",
       "      <td>1</td>\n",
       "    </tr>\n",
       "    <tr>\n",
       "      <th>2</th>\n",
       "      <td>3</td>\n",
       "      <td>True</td>\n",
       "      <td>Third Class</td>\n",
       "      <td>female</td>\n",
       "      <td>26.0</td>\n",
       "      <td>0</td>\n",
       "      <td>0</td>\n",
       "      <td>7.9250</td>\n",
       "      <td>Southampton</td>\n",
       "      <td>0</td>\n",
       "    </tr>\n",
       "    <tr>\n",
       "      <th>3</th>\n",
       "      <td>4</td>\n",
       "      <td>True</td>\n",
       "      <td>First Class</td>\n",
       "      <td>female</td>\n",
       "      <td>35.0</td>\n",
       "      <td>1</td>\n",
       "      <td>0</td>\n",
       "      <td>53.1000</td>\n",
       "      <td>Southampton</td>\n",
       "      <td>1</td>\n",
       "    </tr>\n",
       "    <tr>\n",
       "      <th>4</th>\n",
       "      <td>5</td>\n",
       "      <td>False</td>\n",
       "      <td>Third Class</td>\n",
       "      <td>male</td>\n",
       "      <td>35.0</td>\n",
       "      <td>0</td>\n",
       "      <td>0</td>\n",
       "      <td>8.0500</td>\n",
       "      <td>Southampton</td>\n",
       "      <td>0</td>\n",
       "    </tr>\n",
       "  </tbody>\n",
       "</table>\n",
       "</div>"
      ],
      "text/plain": [
       "   PassengerId Survived       Pclass     Sex   Age  SibSp  Parch     Fare  \\\n",
       "0            1    False  Third Class    male  22.0      1      0   7.2500   \n",
       "1            2     True  First Class  female  38.0      1      0  71.2833   \n",
       "2            3     True  Third Class  female  26.0      0      0   7.9250   \n",
       "3            4     True  First Class  female  35.0      1      0  53.1000   \n",
       "4            5    False  Third Class    male  35.0      0      0   8.0500   \n",
       "\n",
       "      Embarked  FamilyMembers  \n",
       "0  Southampton              1  \n",
       "1    Cherbourg              1  \n",
       "2  Southampton              0  \n",
       "3  Southampton              1  \n",
       "4  Southampton              0  "
      ]
     },
     "execution_count": 10,
     "metadata": {},
     "output_type": "execute_result"
    }
   ],
   "source": [
    "#This function will return a mapped dataframe\n",
    "\n",
    "def mapped_data(df):\n",
    "    \n",
    "    # survived map\n",
    "    survivor_map = {0: False, 1: True}\n",
    "    df['Survived'] = df['Survived'].map(survivor_map)\n",
    "\n",
    "    # PClass map\n",
    "    pclass_map = {1: 'First Class', 2: 'Second Class', 3: 'Third Class'}\n",
    "    df['Pclass'] = df['Pclass'].map(pclass_map)\n",
    "\n",
    "    # Embarkation port map\n",
    "    ports_map = {'S': 'Southampton', 'C': 'Cherbourg','Q':'Queenstown'}\n",
    "    df['Embarked'] = df['Embarked'].map(ports_map)\n",
    "    \n",
    "    # add new column (FamilyMembers) to dataframe - sum of SibSp and Parch\n",
    "    df['FamilyMembers'] = df['SibSp'] + df['Parch']\n",
    "    \n",
    "    return df\n",
    "\n",
    "titanic_df = mapped_data(titanic_df)\n",
    "titanic_df.head(5)"
   ]
  },
  {
   "cell_type": "markdown",
   "metadata": {},
   "source": [
    "\n",
    "### Analysing the Updated Dataset\n",
    "\n",
    "Before exploring the answers to our questions, let us first find out the number of survivors since all of our questions deal with the survival rate. "
   ]
  },
  {
   "cell_type": "code",
   "execution_count": 11,
   "metadata": {
    "collapsed": false
   },
   "outputs": [
    {
     "data": {
      "text/html": [
       "<table border=\"1\" cellpadding=\"3\" cellspacing=\"0\"  style=\"border:1px solid black;border-collapse:collapse;\"><tr><td>Item</td><td>Sample&nbspDataset&nbsp(Count)</td><td>Sample&nbspDataset&nbsp(%)</td></tr><tr><td>Total&nbspPassengers</td><td>891</td><td>-</td></tr><tr><td>Survivors</td><td>342</td><td>38.38%</td></tr><tr><td>Non-survivors</td><td>549</td><td>61.62%</td></tr></table>"
      ],
      "text/plain": [
       "<ipy_table.IpyTable at 0xba1aba8>"
      ]
     },
     "execution_count": 11,
     "metadata": {},
     "output_type": "execute_result"
    }
   ],
   "source": [
    "#Number of Survivors in our sample dataset\n",
    "\n",
    "passengers = len(titanic_df)\n",
    "survivors = len(titanic_df[titanic_df.Survived == True])\n",
    "non_survivors = passengers - survivors\n",
    "\n",
    "survivors_data = titanic_df[titanic_df.Survived==True]\n",
    "\n",
    "non_survivors_data = titanic_df[titanic_df.Survived==False]\n",
    "\n",
    "survivors = [\n",
    "    ['Item','Sample Dataset (Count)', 'Sample Dataset (%)'],\n",
    "    ['Total Passengers',passengers,'-'],\n",
    "    ['Survivors', \n",
    "         survivors,\n",
    "         calculate_percentage(survivors,passengers, True) \n",
    "    ],\n",
    "    ['Non-survivors',  \n",
    "         non_survivors,\n",
    "         calculate_percentage(non_survivors,passengers, True) \n",
    "    ]\n",
    "]\n",
    "\n",
    "\n",
    "tbl.make_table(survivors)"
   ]
  },
  {
   "cell_type": "markdown",
   "metadata": {},
   "source": [
    "### What sex had the better survival rate ?\n",
    "Let us first find out the number of males and females present on board and then subsequently answer this question. We shall consider the hypothesis presented below :\n",
    "\n",
    "    Hypotheis :\n",
    "    \n",
    "    Null Hypothesis (H0) - Survival rate is not affected by the Sex of the passenger\n",
    "  \n",
    "    Alternative Hypothesis (Ha) - Survival rate is affected by the Sex of the passenger\n",
    "    \n",
    "    "
   ]
  },
  {
   "cell_type": "markdown",
   "metadata": {},
   "source": [
    "#### Number of Survivors by Sex"
   ]
  },
  {
   "cell_type": "code",
   "execution_count": 12,
   "metadata": {
    "collapsed": false
   },
   "outputs": [
    {
     "name": "stdout",
     "output_type": "stream",
     "text": [
      "Sex       female  male\n",
      "Survived              \n",
      "False         81   468\n",
      "True         233   109\n"
     ]
    }
   ],
   "source": [
    "table = pd.crosstab(titanic_df['Survived'],titanic_df['Sex'])\n",
    "print table"
   ]
  },
  {
   "cell_type": "markdown",
   "metadata": {},
   "source": [
    "#### Proportion of Survivors by Sex"
   ]
  },
  {
   "cell_type": "code",
   "execution_count": 13,
   "metadata": {
    "collapsed": false
   },
   "outputs": [
    {
     "name": "stdout",
     "output_type": "stream",
     "text": [
      "Sex\n",
      "female    0.742038\n",
      "male      0.188908\n",
      "Name: Survived, dtype: float64\n"
     ]
    }
   ],
   "source": [
    "print titanic_df.groupby('Sex').Survived.mean()"
   ]
  },
  {
   "cell_type": "code",
   "execution_count": 14,
   "metadata": {
    "collapsed": false
   },
   "outputs": [
    {
     "data": {
      "text/plain": [
       "<matplotlib.text.Text at 0xbaf60f0>"
      ]
     },
     "execution_count": 14,
     "metadata": {},
     "output_type": "execute_result"
    },
    {
     "data": {
      "image/png": "[encoded data removed]",
      "text/plain": [
       "<matplotlib.figure.Figure at 0xba1aa90>"
      ]
     },
     "metadata": {},
     "output_type": "display_data"
    }
   ],
   "source": [
    "# calculate values for each survival status\n",
    "\n",
    "survivors_sex = survivors_data.groupby(['Sex']).size().values\n",
    "non_survivors_sex = non_survivors_data.groupby(['Sex']).size().values\n",
    "\n",
    "# calculate the total for calculating percentages\n",
    "\n",
    "totals = survivors_sex + non_survivors_sex\n",
    "\n",
    "# use calculate_percentage_function to calculate percentage of the total\n",
    "\n",
    "survivor_percentages = calculate_percentage(survivors_sex, totals)*100 \n",
    "non_survivor_percentages = calculate_percentage(non_survivors_sex, totals)*100 \n",
    "\n",
    "sex_categories = ['Female', 'Male']\n",
    "\n",
    "f, (ax1, ax2) = plt.subplots(1, 2, figsize=(10,5))\n",
    "\n",
    "# plot chart for count of survivors by sex\n",
    "\n",
    "ax1.bar(range(len(survivors_sex)), survivors_sex, label='Survivors', alpha=0.5, color='m')\n",
    "ax1.bar(range(len(non_survivors_sex)), non_survivors_sex, bottom=survivors_sex, label='Non-Survivors', alpha=0.5, color='k')\n",
    "plt.sca(ax1)\n",
    "plt.xticks([0.4, 1.4], sex_categories )\n",
    "ax1.set_ylabel(\"Count\")\n",
    "ax1.set_xlabel(\"\")\n",
    "ax1.set_title(\"Number of Survivors by Sex\",fontsize=14)\n",
    "plt.legend(loc='upper left')\n",
    "\n",
    "# plot chart for percentage of survivors by sex\n",
    "ax2.bar(range(len(survivor_percentages)), survivor_percentages, alpha=0.5, color='m')\n",
    "ax2.bar(range(len(non_survivor_percentages)), non_survivor_percentages, bottom=survivor_percentages, alpha=0.5, color='k')\n",
    "plt.sca(ax2)\n",
    "plt.xticks([0.4, 1.4],  sex_categories)\n",
    "ax2.set_ylabel(\"Percentage\")\n",
    "ax2.set_xlabel(\"\")\n",
    "ax2.set_title(\"% of Survivors by Sex\",fontsize=14)"
   ]
  },
  {
   "cell_type": "markdown",
   "metadata": {
    "collapsed": true
   },
   "source": [
    "From the plots we can see that there were a significantly more number of males on board the Titanic than females. Observing both the plots we can see that the percentage of females survivors was more. Thus, we can safely say that the chance of survival was more if you were a female. To test our hypothesis, let us perform a Chi-Squared Test. "
   ]
  },
  {
   "cell_type": "code",
   "execution_count": 15,
   "metadata": {
    "collapsed": false
   },
   "outputs": [
    {
     "data": {
      "text/html": [
       "<table border=\"1\" cellpadding=\"3\" cellspacing=\"0\"  style=\"border:1px solid black;border-collapse:collapse;\"><tr><td>Item</td><td>Value</td></tr><tr><td>Chi-Square&nbspTest</td><td>260.7170</td></tr><tr><td>P-Value</td><td>0.0000</td></tr></table>"
      ],
      "text/plain": [
       "<ipy_table.IpyTable at 0xba165c0>"
      ]
     },
     "execution_count": 15,
     "metadata": {},
     "output_type": "execute_result"
    }
   ],
   "source": [
    "table = pd.crosstab([titanic_df['Survived']], titanic_df['Sex'])\n",
    "chi2, p, dof, expected = stats.chi2_contingency(table.values)\n",
    "results = [\n",
    "    ['Item','Value'],\n",
    "    ['Chi-Square Test',chi2],\n",
    "    ['P-Value', p]\n",
    "]\n",
    "tbl.make_table(results)"
   ]
  },
  {
   "cell_type": "markdown",
   "metadata": {
    "collapsed": true
   },
   "source": [
    "We see that the P-value is less than 0.005, so the probability that being a male or female affects the survival rate is high. As a result, with the help of the plots and the Chi-Squared Test, we can reject our null hypothesis. "
   ]
  },
  {
   "cell_type": "markdown",
   "metadata": {
    "collapsed": true
   },
   "source": [
    "### Did belonging to any particular Pclass affect the survival rate ?\n",
    " Let us consider the hypothesis below to answer this question :\n",
    " \n",
    " Null Hypothesis(H0) - The economic class has no effect on the survival rate\n",
    " \n",
    " Alternative Hypothesis (Ha) - Belonging to a particular class significantly increases the survival rate.\n"
   ]
  },
  {
   "cell_type": "markdown",
   "metadata": {
    "collapsed": true
   },
   "source": [
    "#### Number of Survivors by Class"
   ]
  },
  {
   "cell_type": "code",
   "execution_count": 16,
   "metadata": {
    "collapsed": false
   },
   "outputs": [
    {
     "name": "stdout",
     "output_type": "stream",
     "text": [
      "Pclass    First Class  Second Class  Third Class\n",
      "Survived                                        \n",
      "False              80            97          372\n",
      "True              136            87          119\n"
     ]
    }
   ],
   "source": [
    "table = pd.crosstab(titanic_df['Survived'],titanic_df['Pclass'])\n",
    "print table"
   ]
  },
  {
   "cell_type": "markdown",
   "metadata": {
    "collapsed": true
   },
   "source": [
    "#### Proportion of Survivors by Class"
   ]
  },
  {
   "cell_type": "code",
   "execution_count": 17,
   "metadata": {
    "collapsed": false
   },
   "outputs": [
    {
     "name": "stdout",
     "output_type": "stream",
     "text": [
      "Pclass\n",
      "First Class     0.629630\n",
      "Second Class    0.472826\n",
      "Third Class     0.242363\n",
      "Name: Survived, dtype: float64\n"
     ]
    }
   ],
   "source": [
    "print titanic_df.groupby('Pclass').Survived.mean()"
   ]
  },
  {
   "cell_type": "code",
   "execution_count": 18,
   "metadata": {
    "collapsed": false
   },
   "outputs": [
    {
     "data": {
      "text/plain": [
       "<matplotlib.text.Text at 0xc010390>"
      ]
     },
     "execution_count": 18,
     "metadata": {},
     "output_type": "execute_result"
    },
    {
     "data": {
      "image/png": "[encoded data removed]",
      "text/plain": [
       "<matplotlib.figure.Figure at 0xba163c8>"
      ]
     },
     "metadata": {},
     "output_type": "display_data"
    }
   ],
   "source": [
    "# calculate values for each survival status\n",
    "\n",
    "survivors_class = survivors_data.groupby(['Pclass']).size().values\n",
    "non_survivors_class = non_survivors_data.groupby(['Pclass']).size().values\n",
    "\n",
    "# calculate the total for calculating percentages\n",
    "\n",
    "totals = survivors_class + non_survivors_class\n",
    "\n",
    "# use calculate_percentage_function to calculate percentage of the total\n",
    "\n",
    "survivor_percentages = calculate_percentage(survivors_class, totals)*100 \n",
    "non_survivor_percentages = calculate_percentage(non_survivors_class, totals)*100 \n",
    "\n",
    "class_categories = ['First Class', 'Second Class', 'Third Class']\n",
    "\n",
    "f, (ax1, ax2) = plt.subplots(1, 2, figsize=(10,5))\n",
    "\n",
    "# plot chart for count of survivors by class\n",
    "\n",
    "ax1.bar(range(len(survivors_class)), survivors_class, label='Survivors', alpha=0.5, color='m')\n",
    "ax1.bar(range(len(non_survivors_class)), non_survivors_class, bottom=survivors_class, label='Non-Survivors', alpha=0.5, color='k')\n",
    "plt.sca(ax1)\n",
    "plt.xticks([0.4, 1.4, 2.4], class_categories )\n",
    "ax1.set_ylabel(\"Count\")\n",
    "ax1.set_xlabel(\"\")\n",
    "ax1.set_title(\"Number of Survivors by Class\",fontsize=14)\n",
    "plt.legend(loc='upper left')\n",
    "\n",
    "# plot chart for percentage of survivors by class\n",
    "ax2.bar(range(len(survivor_percentages)), survivor_percentages, alpha=0.5, color='m')\n",
    "ax2.bar(range(len(non_survivor_percentages)), non_survivor_percentages, bottom=survivor_percentages, alpha=0.5, color='k')\n",
    "plt.sca(ax2)\n",
    "plt.xticks([0.4, 1.4, 2.4],  class_categories)\n",
    "ax2.set_ylabel(\"Percentage\")\n",
    "ax2.set_xlabel(\"\")\n",
    "ax2.set_title(\"% of Survivors by Class\",fontsize=14)"
   ]
  },
  {
   "cell_type": "markdown",
   "metadata": {},
   "source": [
    "We can see from the plots that though there were more number of passengers in the Third class, it had the lowest survival rate. The Second Class was in the middle of both the First Class and the Third Class with respect to the number of passengers. The First class as observed above had the highest survival rate. Let us a perform a Chi-Squared Test to test our hypothesis. "
   ]
  },
  {
   "cell_type": "code",
   "execution_count": 19,
   "metadata": {
    "collapsed": false
   },
   "outputs": [
    {
     "data": {
      "text/html": [
       "<table border=\"1\" cellpadding=\"3\" cellspacing=\"0\"  style=\"border:1px solid black;border-collapse:collapse;\"><tr><td>Item</td><td>Value</td></tr><tr><td>Chi-Square&nbspTest</td><td>102.8890</td></tr><tr><td>P-Value</td><td>0.0000</td></tr></table>"
      ],
      "text/plain": [
       "<ipy_table.IpyTable at 0xba11ef0>"
      ]
     },
     "execution_count": 19,
     "metadata": {},
     "output_type": "execute_result"
    }
   ],
   "source": [
    "table = pd.crosstab([titanic_df['Survived']], titanic_df['Pclass'])\n",
    "chi2, p, dof, expected = stats.chi2_contingency(table.values)\n",
    "results = [\n",
    "    ['Item','Value'],\n",
    "    ['Chi-Square Test',chi2],\n",
    "    ['P-Value', p]\n",
    "]\n",
    "tbl.make_table(results)"
   ]
  },
  {
   "cell_type": "markdown",
   "metadata": {},
   "source": [
    "We see that the P-value is less than 0.005, so the probability that belonging to a particular class affects the survival rate is high. So we reject our null hypothesis and can safely say that belonging to a particular class did affect the survival rate and the chances of survival were the highest if you belonged to the First Class."
   ]
  },
  {
   "cell_type": "markdown",
   "metadata": {},
   "source": [
    "###  Did travelling alone or travelling with a family impact one's survival rate ?\n",
    " Let us consider the hypothesis below to answer our question :\n",
    " \n",
    " Null Hypothesis (H0)- Travelling alone or travelling with family does not impact the survival rate.\n",
    " \n",
    " Alternative Hypothesis (Ha) - Travelling alone or with family significantly affect the survival rate."
   ]
  },
  {
   "cell_type": "markdown",
   "metadata": {},
   "source": [
    "#### Number of Survivors by Family Members"
   ]
  },
  {
   "cell_type": "code",
   "execution_count": 20,
   "metadata": {
    "collapsed": false
   },
   "outputs": [
    {
     "name": "stdout",
     "output_type": "stream",
     "text": [
      "FamilyMembers   0   1   2   3   4   5   6   7   10\n",
      "Survived                                          \n",
      "False          374  72  43   8  12  19   8   6   7\n",
      "True           163  89  59  21   3   3   4   0   0\n"
     ]
    }
   ],
   "source": [
    "table = pd.crosstab(titanic_df['Survived'],titanic_df['FamilyMembers'])\n",
    "print table"
   ]
  },
  {
   "cell_type": "markdown",
   "metadata": {},
   "source": [
    "#### Proportion of Survivors by Family Members"
   ]
  },
  {
   "cell_type": "code",
   "execution_count": 21,
   "metadata": {
    "collapsed": false
   },
   "outputs": [
    {
     "name": "stdout",
     "output_type": "stream",
     "text": [
      "FamilyMembers\n",
      "0     0.303538\n",
      "1     0.552795\n",
      "2     0.578431\n",
      "3     0.724138\n",
      "4     0.200000\n",
      "5     0.136364\n",
      "6     0.333333\n",
      "7     0.000000\n",
      "10    0.000000\n",
      "Name: Survived, dtype: float64\n"
     ]
    }
   ],
   "source": [
    "print titanic_df.groupby('FamilyMembers').Survived.mean()"
   ]
  },
  {
   "cell_type": "code",
   "execution_count": 33,
   "metadata": {
    "collapsed": false
   },
   "outputs": [
    {
     "data": {
      "text/plain": [
       "<matplotlib.legend.Legend at 0xf0cf208>"
      ]
     },
     "execution_count": 33,
     "metadata": {},
     "output_type": "execute_result"
    },
    {
     "data": {
      "image/png": "[encoded data removed]",
      "text/plain": [
       "<matplotlib.figure.Figure at 0xef0d0b8>"
      ]
     },
     "metadata": {},
     "output_type": "display_data"
    }
   ],
   "source": [
    "survivors_family = survivors_data.groupby(['FamilyMembers']).size().values\n",
    "\n",
    "non_survivors_family = non_survivors_data.groupby(['FamilyMembers']).size().values\n",
    "\n",
    "# calculate the total for calculating percentages\n",
    "\n",
    "totals = len(titanic_df['FamilyMembers'])\n",
    "\n",
    "# use calculate_percentage_function to calculate percentage of the total\n",
    "\n",
    "survivor_percentages = calculate_percentage(survivors_class, totals)*100 \n",
    "non_survivor_percentages = calculate_percentage(non_survivors_class, totals)*100\n",
    "\n",
    "plt.plot(survivors_family,color='m', label='Survivors')\n",
    "plt.plot(non_survivors_family,color='k',label='Non-Survivors' )\n",
    "plt.ylabel('Count')\n",
    "plt.xlabel('Family Members');\n",
    "plt.title(\"Number of Survivors by Class\",fontsize=14)\n",
    "plt.legend(loc='upper right')"
   ]
  },
  {
   "cell_type": "markdown",
   "metadata": {},
   "source": [
    "From the plots and the calculations above we can see that a person had more chance of survival if he was travelling with someone. Let us perform a Chi-Squared Test to confirm our obsevations."
   ]
  },
  {
   "cell_type": "code",
   "execution_count": 110,
   "metadata": {
    "collapsed": false
   },
   "outputs": [
    {
     "data": {
      "text/html": [
       "<table border=\"1\" cellpadding=\"3\" cellspacing=\"0\"  style=\"border:1px solid black;border-collapse:collapse;\"><tr><td>Item</td><td>Value</td></tr><tr><td>Chi-Square&nbspTest</td><td>80.6723</td></tr><tr><td>P-Value</td><td>0.0000</td></tr></table>"
      ],
      "text/plain": [
       "<ipy_table.IpyTable at 0x17873908>"
      ]
     },
     "execution_count": 110,
     "metadata": {},
     "output_type": "execute_result"
    }
   ],
   "source": [
    "table = pd.crosstab([titanic_df['Survived']], titanic_df['FamilyMembers'])\n",
    "chi2, p, dof, expected = stats.chi2_contingency(table.values)\n",
    "results = [\n",
    "    ['Item','Value'],\n",
    "    ['Chi-Square Test',chi2],\n",
    "    ['P-Value', p]\n",
    "]\n",
    "tbl.make_table(results)"
   ]
  },
  {
   "cell_type": "markdown",
   "metadata": {},
   "source": [
    "As the P-value is less than 0.005, the probability that travelling with someone affects the survival rate is high.This confirms our observations and hence we reject our hypothesis."
   ]
  },
  {
   "cell_type": "markdown",
   "metadata": {},
   "source": [
    "### Conclusion\n",
    "We should note that we performed data analysis only on a sample of the complete data and a lot of information was missing too. Availability of missing data and size of the complete dataset may have skewed the results. As with any dataset, the more information we have, the better it can be analysed. Information such as number of lifeboats could have significantly helped us figure out why there were so many casualties on board the the Titanic. One more interesting fact to take a note of is that we don't know if this dataset we are using was a random sample or not. It could be biased or unbiased too. The size of this sample as a results could also have impacted the results we have obtained."
   ]
  },
  {
   "cell_type": "code",
   "execution_count": 36,
   "metadata": {
    "collapsed": false
   },
   "outputs": [
    {
     "name": "stdout",
     "output_type": "stream",
     "text": [
      "Sex\n",
      "female     53\n",
      "male      124\n",
      "dtype: int64\n"
     ]
    }
   ],
   "source": [
    "print missing_age_entries.groupby('Sex').size()"
   ]
  },
  {
   "cell_type": "markdown",
   "metadata": {},
   "source": [
    "There are 53 missing ages for female and 124 missing ages for male which for a sample of 891 could be considered significant. There are various methods by which we could handle this missing data. Below we discuss a possible few of such methods :-\n",
    "\n",
    "1) If we want to actually increase the accuracy for analysis of the Age factor in this dataset, we could simply delete all the missing ages from the dataset. However, inversely this would confine the accuracy for analysis of Sex and Class. \n",
    "\n",
    "2) The other option which we have implemented in this project is to replace the missing ages by generating ages based on the mean of the ages. This could however skew the results for our analysis of age. "
   ]
  },
  {
   "cell_type": "markdown",
   "metadata": {},
   "source": [
    "# References\n",
    "\n",
    "1) http://stattrek.com/hypothesis-test/difference-in-proportions.aspx\n",
    "2) http://www.anesi.com/titanic.htm\n",
    "3) http://cs229.stanford.edu/proj2012/LamTang-TitanicMachineLearningFromDisaster.pdf\n",
    "4) https://blog.dataiku.com/2014/05/12/getting-started-data-science-titanic-kaggle-part-1"
   ]
  }
 ],
 "metadata": {
  "anaconda-cloud": {},
  "celltoolbar": "Raw Cell Format",
  "kernelspec": {
   "display_name": "Python [conda root]",
   "language": "python",
   "name": "conda-root-py"
  },
  "language_info": {
   "codemirror_mode": {
    "name": "ipython",
    "version": 2
   },
   "file_extension": ".py",
   "mimetype": "text/x-python",
   "name": "python",
   "nbconvert_exporter": "python",
   "pygments_lexer": "ipython2",
   "version": "2.7.12"
  }
 },
 "nbformat": 4,
 "nbformat_minor": 1
}
